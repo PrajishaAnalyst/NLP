{
 "cells": [
  {
   "cell_type": "code",
   "execution_count": 1,
   "metadata": {},
   "outputs": [],
   "source": [
    "import numpy as np\n",
    "import string"
   ]
  },
  {
   "cell_type": "code",
   "execution_count": 2,
   "metadata": {},
   "outputs": [],
   "source": [
    "np.random.seed(1234)"
   ]
  },
  {
   "cell_type": "code",
   "execution_count": 3,
   "metadata": {},
   "outputs": [],
   "source": [
    "intial={}\n",
    "first_order={}\n",
    "second_order={}"
   ]
  },
  {
   "cell_type": "code",
   "execution_count": 4,
   "metadata": {},
   "outputs": [],
   "source": [
    "def remove_punctuation(s):\n",
    "    return s.translate(str.maketrans('','',string.punctuation))"
   ]
  },
  {
   "cell_type": "code",
   "execution_count": 5,
   "metadata": {},
   "outputs": [
    {
     "name": "stderr",
     "output_type": "stream",
     "text": [
      "  % Total    % Received % Xferd  Average Speed   Time    Time     Time  Current\n",
      "                                 Dload  Upload   Total   Spent    Left  Speed\n",
      "\n",
      "  0     0    0     0    0     0      0      0 --:--:-- --:--:-- --:--:--     0\n",
      "  2 56286    2  1378    0     0   2990      0  0:00:18 --:--:--  0:00:18  2995\n",
      "100 56286  100 56286    0     0   110k      0 --:--:-- --:--:-- --:--:--  110k\n"
     ]
    }
   ],
   "source": [
    "!curl -O https://raw.githubusercontent.com/lazyprogrammer/machine_learning_examples/master/hmm_class/robert_frost.txt"
   ]
  },
  {
   "cell_type": "code",
   "execution_count": 6,
   "metadata": {},
   "outputs": [],
   "source": [
    "def add2dict(d,k,v):\n",
    "    if k not in d:\n",
    "        d[k]=[]\n",
    "    d[k].append(v)\n"
   ]
  },
  {
   "cell_type": "code",
   "execution_count": 7,
   "metadata": {},
   "outputs": [],
   "source": [
    "for line in open('robert_frost.txt'):\n",
    "    tokens=remove_punctuation(line.rstrip().lower()).split()\n",
    "    T=len(tokens)\n",
    "    for i in range(T):\n",
    "        t=tokens[i]\n",
    "        if i==0:\n",
    "            intial[t]=intial.get(t,0.)+1\n",
    "        else:\n",
    "            t_1=tokens[i-1]\n",
    "            if i==T-1:\n",
    "                add2dict(second_order,(t_1,t),\"END\")\n",
    "            if i==1:\n",
    "                add2dict(first_order,t_1,t)\n",
    "            else:\n",
    "                t_2=tokens[i-2]\n",
    "                add2dict(second_order,(t_2,t_1),t)"
   ]
  },
  {
   "cell_type": "code",
   "execution_count": 8,
   "metadata": {},
   "outputs": [],
   "source": [
    "intial_total=sum(intial.values())\n",
    "for t,c in intial.items():\n",
    "    intial[t]=c/intial_total"
   ]
  },
  {
   "cell_type": "code",
   "execution_count": 9,
   "metadata": {},
   "outputs": [],
   "source": [
    "def list2pdict(ts):\n",
    "    d={}\n",
    "    n=len(ts)\n",
    "    for t in ts:\n",
    "        d[t]=d.get(t,0.)+1\n",
    "    for t,c in d.items():\n",
    "        d[t]=c/n\n",
    "    return d\n"
   ]
  },
  {
   "cell_type": "code",
   "execution_count": 10,
   "metadata": {},
   "outputs": [],
   "source": [
    "for t_1,ts in first_order.items():\n",
    "    first_order[t_1]=list2pdict(ts)"
   ]
  },
  {
   "cell_type": "code",
   "execution_count": 11,
   "metadata": {},
   "outputs": [],
   "source": [
    "for k,ts in second_order.items():\n",
    "    second_order[k]=list2pdict(ts)"
   ]
  },
  {
   "cell_type": "code",
   "execution_count": 12,
   "metadata": {},
   "outputs": [],
   "source": [
    "def sample_word(d):\n",
    "    p0=np.random.random()\n",
    "    cumulative=0\n",
    "    for t,p in d.items():\n",
    "        cumulative +=p\n",
    "        if p0<cumulative:\n",
    "            return(t)\n",
    "    assert(False)"
   ]
  },
  {
   "cell_type": "code",
   "execution_count": 14,
   "metadata": {},
   "outputs": [],
   "source": [
    "def generate():\n",
    "    for i in range (4):\n",
    "        sentence=[]\n",
    "        w0=sample_word(intial)\n",
    "        sentence.append(w0)\n",
    "        w1=sample_word(first_order[w0])\n",
    "        sentence.append(w1)\n",
    "        while True:\n",
    "            w2=sample_word(second_order[(w0,w1)])\n",
    "            if w2=='END':\n",
    "                break\n",
    "            sentence.append(w2)\n",
    "            w0=w1\n",
    "            w1=w2\n",
    "        print(' '.join(sentence))\n",
    "\n"
   ]
  },
  {
   "cell_type": "code",
   "execution_count": 15,
   "metadata": {},
   "outputs": [
    {
     "name": "stdout",
     "output_type": "stream",
     "text": [
      "i went to bed alone and left me\n",
      "might just as empty\n",
      "but it isnt as if and thats not all the money goes so fast\n",
      "you couldnt call it living for it aint\n"
     ]
    }
   ],
   "source": [
    "generate()"
   ]
  }
 ],
 "metadata": {
  "kernelspec": {
   "display_name": "Python 3",
   "language": "python",
   "name": "python3"
  },
  "language_info": {
   "codemirror_mode": {
    "name": "ipython",
    "version": 3
   },
   "file_extension": ".py",
   "mimetype": "text/x-python",
   "name": "python",
   "nbconvert_exporter": "python",
   "pygments_lexer": "ipython3",
   "version": "3.11.5"
  }
 },
 "nbformat": 4,
 "nbformat_minor": 2
}
